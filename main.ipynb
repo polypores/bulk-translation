{
 "cells": [
  {
   "cell_type": "code",
   "execution_count": 4,
   "metadata": {},
   "outputs": [],
   "source": [
    "import polib\n",
    "from easygoogletranslate import EasyGoogleTranslate\n",
    "\n",
    "translator = EasyGoogleTranslate(\n",
    "    source_language='en',\n",
    "    target_language='vi',\n",
    "    timeout=10\n",
    ")"
   ]
  },
  {
   "cell_type": "code",
   "execution_count": 5,
   "metadata": {},
   "outputs": [
    {
     "name": "stderr",
     "output_type": "stream",
     "text": [
      "<>:1: SyntaxWarning: invalid escape sequence '\\W'\n",
      "<>:1: SyntaxWarning: invalid escape sequence '\\W'\n",
      "C:\\Users\\phi\\AppData\\Local\\Temp\\ipykernel_12892\\2857228153.py:1: SyntaxWarning: invalid escape sequence '\\W'\n",
      "  po = polib.pofile('C:\\Workspace\\codespace\\po-translate-suggestion\\sample.po')\n"
     ]
    }
   ],
   "source": [
    "\n",
    "po = polib.pofile('C:\\Workspace\\codespace\\po-translate-suggestion\\sample.po')\n",
    "\n",
    "for entry in po:\n",
    "  if (entry.msgstr == ''):\n",
    "    entry.msgstr = \"BETA \" + translator.translate(entry.msgid)\n",
    "    # print(entry.msgid, entry.msgstr)"
   ]
  },
  {
   "cell_type": "code",
   "execution_count": 8,
   "metadata": {},
   "outputs": [],
   "source": [
    "po.save('C:\\\\Workspace\\\\codespace\\\\newSample.po')"
   ]
  }
 ],
 "metadata": {
  "kernelspec": {
   "display_name": "venv",
   "language": "python",
   "name": "python3"
  },
  "language_info": {
   "codemirror_mode": {
    "name": "ipython",
    "version": 3
   },
   "file_extension": ".py",
   "mimetype": "text/x-python",
   "name": "python",
   "nbconvert_exporter": "python",
   "pygments_lexer": "ipython3",
   "version": "3.12.3"
  }
 },
 "nbformat": 4,
 "nbformat_minor": 2
}
